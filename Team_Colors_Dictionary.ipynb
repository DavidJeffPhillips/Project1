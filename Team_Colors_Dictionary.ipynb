{
 "cells": [
  {
   "cell_type": "code",
   "execution_count": 1,
   "metadata": {},
   "outputs": [],
   "source": [
    "import pandas as pd\n",
    "import matplotlib.pyplot as plt"
   ]
  },
  {
   "cell_type": "code",
   "execution_count": 2,
   "metadata": {},
   "outputs": [],
   "source": [
    "batter_df = pd.read_csv('data/Clean_Bat.csv')\n",
    "teams = batter_df['team_ID'].unique()"
   ]
  },
  {
   "cell_type": "code",
   "execution_count": 36,
   "metadata": {},
   "outputs": [],
   "source": [
    "team_colors = {\n",
    "    'MIL':'darkblue',\n",
    "    'OAK':'green',\n",
    "    'BOS':'firebrick',\n",
    "    'CIN':'red',\n",
    "    'CHW':'black',\n",
    "    'FLA':'teal',\n",
    "    'COL':'purple',\n",
    "    'NYM':'orangered',\n",
    "    'ATL':'red',\n",
    "    'HOU':'orange',\n",
    "    'TBD':'skyblue',\n",
    "    'KCR':'royalblue',\n",
    "    'MIN':'darkred',\n",
    "    'SDP':'tan',\n",
    "    'CAL':'red',\n",
    "    'PHI':'red',\n",
    "    'NYY':'navy',\n",
    "    'LAA':'red',\n",
    "    'LAD':'blue',\n",
    "    'ARI':'purple',\n",
    "    'SFG':'darkorange',\n",
    "    'SEA':'teal',\n",
    "    'DET':'navy',\n",
    "    'TOR':'lightblue',\n",
    "    'STL':'crimson',\n",
    "    'CHC':'blue',\n",
    "    'BAL':'orange',\n",
    "    'TEX':'blue',\n",
    "    'CLE':'darkblue',\n",
    "    'MON':'lightblue',\n",
    "    'PIT':'gold',\n",
    "    'ANA':'red',\n",
    "    'TBR':'skyblue',\n",
    "    'WSN':'red',\n",
    "    'MIA':'turquoise'\n",
    "}\n"
   ]
  },
  {
   "cell_type": "code",
   "execution_count": 48,
   "metadata": {},
   "outputs": [
    {
     "data": {
      "image/png": "[encoded data removed]",
      "text/plain": [
       "<Figure size 432x288 with 1 Axes>"
      ]
     },
     "metadata": {
      "needs_background": "light"
     },
     "output_type": "display_data"
    }
   ],
   "source": [
    "# Visualization of each team's colors using a bar chart\n",
    "colors = []\n",
    "for team in teams:\n",
    "    colors.append(team_colors[team])\n",
    "# colors\n",
    "\n",
    "bar_list = plt.bar(teams, 1, width=0.7)\n",
    "for team in range(len(teams)):\n",
    "    bar_list[team].set_color(colors[team])\n",
    "plt.show()"
   ]
  },
  {
   "cell_type": "code",
   "execution_count": null,
   "metadata": {},
   "outputs": [],
   "source": []
  }
 ],
 "metadata": {
  "kernelspec": {
   "display_name": "Python 3",
   "language": "python",
   "name": "python3"
  },
  "language_info": {
   "codemirror_mode": {
    "name": "ipython",
    "version": 3
   },
   "file_extension": ".py",
   "mimetype": "text/x-python",
   "name": "python",
   "nbconvert_exporter": "python",
   "pygments_lexer": "ipython3",
   "version": "3.7.1"
  }
 },
 "nbformat": 4,
 "nbformat_minor": 2
}
